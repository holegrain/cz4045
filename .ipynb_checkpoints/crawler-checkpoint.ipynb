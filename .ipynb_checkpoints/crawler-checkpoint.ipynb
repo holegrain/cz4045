{
 "cells": [
  {
   "cell_type": "code",
   "execution_count": 19,
   "id": "cfddd4fe",
   "metadata": {},
   "outputs": [],
   "source": [
    "import requests\n",
    "import json\n",
    "import os\n",
    "from datetime import datetime\n",
    "import praw\n",
    "import pandas as pd\n",
    "import time"
   ]
  },
  {
   "cell_type": "code",
   "execution_count": 26,
   "id": "73ee572f",
   "metadata": {
    "scrolled": true
   },
   "outputs": [],
   "source": [
    "# Capitalization does not matter in url\n",
    "subreddit = 'offmychest'\n",
    "# hot, new, top, controversial, rising\n",
    "sort = 'hot'\n",
    "\n",
    "start_time = datetime.now()\n",
    "\n",
    "# Seems like reddit does not like someone crawling their website\n",
    "# It will return 502 (Bad Gateway), but explanation is \"Too Many Requests\"\n",
    "\n",
    "'''\n",
    "# api url from web traffic\n",
    "url = f'https://gateway.reddit.com/desktopapi/v1/subreddits/{subreddit}?sort={sort}'\n",
    "res = requests.get(url)\n",
    "print(res.text)\n",
    "'''\n",
    "\n",
    "# be polite and use APIs instead, unless...\n",
    "from fake_useragent import UserAgent\n",
    "\n",
    "FAKE_HEADERS = {'User-Agent': UserAgent().random}\n",
    "url = f'https://gateway.reddit.com/desktopapi/v1/subreddits/{subreddit}?sort={sort}'\n",
    "\n",
    "res = requests.get(url, headers=FAKE_HEADERS)\n",
    "posts = json.loads(res.text)['posts']\n",
    "\n",
    "output = []\n",
    "for i in posts:\n",
    "    output.append(posts[i]['title'])\n",
    "\n",
    "output_text = '\\n'.join(output)\n",
    "\n",
    "# save\n",
    "filename = 'output.txt'\n",
    "metadata = {'subreddit': subreddit,\n",
    "            'sort': sort,\n",
    "            'time': str(start_time),\n",
    "            'no_posts': len(output)\n",
    "            }\n",
    "\n",
    "with open('metadata.json', 'w') as file:\n",
    "    file.write(json.dumps(metadata))\n",
    "\n",
    "with open(filename, 'w') as file:\n",
    "    file.write(output_text)"
   ]
  },
  {
   "cell_type": "code",
   "execution_count": 26,
   "id": "d0f6c8dc",
   "metadata": {},
   "outputs": [
    {
     "name": "stdout",
     "output_type": "stream",
     "text": [
      "16.35876154899597\n"
     ]
    },
    {
     "ename": "UnicodeEncodeError",
     "evalue": "'charmap' codec can't encode character '\\U0001f641' in position 67: character maps to <undefined>",
     "output_type": "error",
     "traceback": [
      "\u001b[1;31m---------------------------------------------------------------------------\u001b[0m",
      "\u001b[1;31mUnicodeEncodeError\u001b[0m                        Traceback (most recent call last)",
      "\u001b[1;32m~\\AppData\\Local\\Temp/ipykernel_127996/2403976602.py\u001b[0m in \u001b[0;36m<module>\u001b[1;34m\u001b[0m\n\u001b[0;32m     27\u001b[0m \u001b[1;33m\u001b[0m\u001b[0m\n\u001b[0;32m     28\u001b[0m \u001b[1;32mwith\u001b[0m \u001b[0mopen\u001b[0m\u001b[1;33m(\u001b[0m\u001b[0mfilename\u001b[0m\u001b[1;33m,\u001b[0m \u001b[1;34m'w'\u001b[0m\u001b[1;33m)\u001b[0m \u001b[1;32mas\u001b[0m \u001b[0mfile\u001b[0m\u001b[1;33m:\u001b[0m\u001b[1;33m\u001b[0m\u001b[1;33m\u001b[0m\u001b[0m\n\u001b[1;32m---> 29\u001b[1;33m     \u001b[0mfile\u001b[0m\u001b[1;33m.\u001b[0m\u001b[0mwrite\u001b[0m\u001b[1;33m(\u001b[0m\u001b[0moutput_text\u001b[0m\u001b[1;33m)\u001b[0m\u001b[1;33m\u001b[0m\u001b[1;33m\u001b[0m\u001b[0m\n\u001b[0m",
      "\u001b[1;32mc:\\users\\huang\\appdata\\local\\programs\\python\\python38-32\\lib\\encodings\\cp1252.py\u001b[0m in \u001b[0;36mencode\u001b[1;34m(self, input, final)\u001b[0m\n\u001b[0;32m     17\u001b[0m \u001b[1;32mclass\u001b[0m \u001b[0mIncrementalEncoder\u001b[0m\u001b[1;33m(\u001b[0m\u001b[0mcodecs\u001b[0m\u001b[1;33m.\u001b[0m\u001b[0mIncrementalEncoder\u001b[0m\u001b[1;33m)\u001b[0m\u001b[1;33m:\u001b[0m\u001b[1;33m\u001b[0m\u001b[1;33m\u001b[0m\u001b[0m\n\u001b[0;32m     18\u001b[0m     \u001b[1;32mdef\u001b[0m \u001b[0mencode\u001b[0m\u001b[1;33m(\u001b[0m\u001b[0mself\u001b[0m\u001b[1;33m,\u001b[0m \u001b[0minput\u001b[0m\u001b[1;33m,\u001b[0m \u001b[0mfinal\u001b[0m\u001b[1;33m=\u001b[0m\u001b[1;32mFalse\u001b[0m\u001b[1;33m)\u001b[0m\u001b[1;33m:\u001b[0m\u001b[1;33m\u001b[0m\u001b[1;33m\u001b[0m\u001b[0m\n\u001b[1;32m---> 19\u001b[1;33m         \u001b[1;32mreturn\u001b[0m \u001b[0mcodecs\u001b[0m\u001b[1;33m.\u001b[0m\u001b[0mcharmap_encode\u001b[0m\u001b[1;33m(\u001b[0m\u001b[0minput\u001b[0m\u001b[1;33m,\u001b[0m\u001b[0mself\u001b[0m\u001b[1;33m.\u001b[0m\u001b[0merrors\u001b[0m\u001b[1;33m,\u001b[0m\u001b[0mencoding_table\u001b[0m\u001b[1;33m)\u001b[0m\u001b[1;33m[\u001b[0m\u001b[1;36m0\u001b[0m\u001b[1;33m]\u001b[0m\u001b[1;33m\u001b[0m\u001b[1;33m\u001b[0m\u001b[0m\n\u001b[0m\u001b[0;32m     20\u001b[0m \u001b[1;33m\u001b[0m\u001b[0m\n\u001b[0;32m     21\u001b[0m \u001b[1;32mclass\u001b[0m \u001b[0mIncrementalDecoder\u001b[0m\u001b[1;33m(\u001b[0m\u001b[0mcodecs\u001b[0m\u001b[1;33m.\u001b[0m\u001b[0mIncrementalDecoder\u001b[0m\u001b[1;33m)\u001b[0m\u001b[1;33m:\u001b[0m\u001b[1;33m\u001b[0m\u001b[1;33m\u001b[0m\u001b[0m\n",
      "\u001b[1;31mUnicodeEncodeError\u001b[0m: 'charmap' codec can't encode character '\\U0001f641' in position 67: character maps to <undefined>"
     ]
    }
   ],
   "source": [
    "reddit = praw.Reddit(client_id='Ov0hf5hbdxVwAtI9CdodYw', client_secret='pzpqglx6N3_WoIAgJlMGsUowUkdwsw', user_agent='cz4045OMC')\n",
    "\n",
    "start_time = datetime.now()\n",
    "\n",
    "#https://towardsdatascience.com/scraping-reddit-data-1c0af3040768\n",
    "output = []\n",
    "n = 10000\n",
    "t0= time.time()\n",
    "hot_posts = reddit.subreddit('offmychest').new(limit=n)\n",
    "for post in hot_posts:\n",
    "    output.append(post.title)\n",
    "t1= time.time() - t0\n",
    "print(t1)\n",
    "    \n",
    "output_text = '\\n'.join(output)\n",
    "    \n",
    "# save\n",
    "filename = 'output_praw.txt'\n",
    "metadata = {'subreddit': 'offmychest',\n",
    "            'sort': 'hot',\n",
    "            'time': str(start_time),\n",
    "            'no_posts': len(output)\n",
    "            }\n",
    "\n",
    "with open('metadata_praw.json', 'w') as file:\n",
    "    file.write(json.dumps(metadata))\n",
    "\n",
    "with open(filename, 'w') as file:\n",
    "    file.write(output_text)"
   ]
  },
  {
   "cell_type": "code",
   "execution_count": null,
   "id": "7e0446de",
   "metadata": {
    "scrolled": true
   },
   "outputs": [],
   "source": [
    "data = pd.read_csv('output_praw.txt', sep=\"\\n\", header=None, encoding= 'unicode_escape')\n",
    "data.columns = [\"titles\"]"
   ]
  },
  {
   "cell_type": "code",
   "execution_count": 27,
   "id": "f9d605c3",
   "metadata": {},
   "outputs": [],
   "source": [
    "data = pd.DataFrame("
   ]
  },
  {
   "cell_type": "code",
   "execution_count": 28,
   "id": "b48699fa",
   "metadata": {},
   "outputs": [
    {
     "data": {
      "text/html": [
       "<div>\n",
       "<style scoped>\n",
       "    .dataframe tbody tr th:only-of-type {\n",
       "        vertical-align: middle;\n",
       "    }\n",
       "\n",
       "    .dataframe tbody tr th {\n",
       "        vertical-align: top;\n",
       "    }\n",
       "\n",
       "    .dataframe thead th {\n",
       "        text-align: right;\n",
       "    }\n",
       "</style>\n",
       "<table border=\"1\" class=\"dataframe\">\n",
       "  <thead>\n",
       "    <tr style=\"text-align: right;\">\n",
       "      <th></th>\n",
       "      <th>0</th>\n",
       "    </tr>\n",
       "  </thead>\n",
       "  <tbody>\n",
       "    <tr>\n",
       "      <th>0</th>\n",
       "      <td>Succeeded in the driving test</td>\n",
       "    </tr>\n",
       "    <tr>\n",
       "      <th>1</th>\n",
       "      <td>I think I finally got on her nerves 🙁</td>\n",
       "    </tr>\n",
       "    <tr>\n",
       "      <th>2</th>\n",
       "      <td>I think I’ve gotten addicted to my wife during...</td>\n",
       "    </tr>\n",
       "    <tr>\n",
       "      <th>3</th>\n",
       "      <td>I’m to tired</td>\n",
       "    </tr>\n",
       "    <tr>\n",
       "      <th>4</th>\n",
       "      <td>I don´t have a sexuality. I just want to know ...</td>\n",
       "    </tr>\n",
       "    <tr>\n",
       "      <th>...</th>\n",
       "      <td>...</td>\n",
       "    </tr>\n",
       "    <tr>\n",
       "      <th>983</th>\n",
       "      <td>I (F21) don't know if this guy (M20) is a stal...</td>\n",
       "    </tr>\n",
       "    <tr>\n",
       "      <th>984</th>\n",
       "      <td>My sister has been pulling me down since she w...</td>\n",
       "    </tr>\n",
       "    <tr>\n",
       "      <th>985</th>\n",
       "      <td>I was a bullied child</td>\n",
       "    </tr>\n",
       "    <tr>\n",
       "      <th>986</th>\n",
       "      <td>the pain what i feel everyday</td>\n",
       "    </tr>\n",
       "    <tr>\n",
       "      <th>987</th>\n",
       "      <td>It's been 3 days since I broke up with my girl...</td>\n",
       "    </tr>\n",
       "  </tbody>\n",
       "</table>\n",
       "<p>988 rows × 1 columns</p>\n",
       "</div>"
      ],
      "text/plain": [
       "                                                     0\n",
       "0                        Succeeded in the driving test\n",
       "1                I think I finally got on her nerves 🙁\n",
       "2    I think I’ve gotten addicted to my wife during...\n",
       "3                                         I’m to tired\n",
       "4    I don´t have a sexuality. I just want to know ...\n",
       "..                                                 ...\n",
       "983  I (F21) don't know if this guy (M20) is a stal...\n",
       "984  My sister has been pulling me down since she w...\n",
       "985                              I was a bullied child\n",
       "986                      the pain what i feel everyday\n",
       "987  It's been 3 days since I broke up with my girl...\n",
       "\n",
       "[988 rows x 1 columns]"
      ]
     },
     "execution_count": 28,
     "metadata": {},
     "output_type": "execute_result"
    }
   ],
   "source": [
    "data"
   ]
  },
  {
   "cell_type": "code",
   "execution_count": null,
   "id": "fe968326",
   "metadata": {},
   "outputs": [],
   "source": []
  }
 ],
 "metadata": {
  "kernelspec": {
   "display_name": "Python 3 (ipykernel)",
   "language": "python",
   "name": "python3"
  },
  "language_info": {
   "codemirror_mode": {
    "name": "ipython",
    "version": 3
   },
   "file_extension": ".py",
   "mimetype": "text/x-python",
   "name": "python",
   "nbconvert_exporter": "python",
   "pygments_lexer": "ipython3",
   "version": "3.8.5"
  }
 },
 "nbformat": 4,
 "nbformat_minor": 5
}
