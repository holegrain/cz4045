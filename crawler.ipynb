{
 "cells": [
  {
   "cell_type": "code",
   "execution_count": 19,
   "id": "cfddd4fe",
   "metadata": {},
   "outputs": [],
   "source": [
    "import requests\n",
    "import json\n",
    "import os\n",
    "from datetime import datetime\n",
    "import praw\n",
    "import pandas as pd\n",
    "import time"
   ]
  },
  {
   "cell_type": "code",
   "execution_count": 26,
   "id": "73ee572f",
   "metadata": {
    "scrolled": true
   },
   "outputs": [],
   "source": [
    "# Capitalization does not matter in url\n",
    "subreddit = 'offmychest'\n",
    "# hot, new, top, controversial, rising\n",
    "sort = 'hot'\n",
    "\n",
    "start_time = datetime.now()\n",
    "\n",
    "# Seems like reddit does not like someone crawling their website\n",
    "# It will return 502 (Bad Gateway), but explanation is \"Too Many Requests\"\n",
    "\n",
    "'''\n",
    "# api url from web traffic\n",
    "url = f'https://gateway.reddit.com/desktopapi/v1/subreddits/{subreddit}?sort={sort}'\n",
    "res = requests.get(url)\n",
    "print(res.text)\n",
    "'''\n",
    "\n",
    "# be polite and use APIs instead, unless...\n",
    "from fake_useragent import UserAgent\n",
    "\n",
    "FAKE_HEADERS = {'User-Agent': UserAgent().random}\n",
    "url = f'https://gateway.reddit.com/desktopapi/v1/subreddits/{subreddit}?sort={sort}'\n",
    "\n",
    "res = requests.get(url, headers=FAKE_HEADERS)\n",
    "posts = json.loads(res.text)['posts']\n",
    "\n",
    "output = []\n",
    "for i in posts:\n",
    "    output.append(posts[i]['title'])\n",
    "\n",
    "output_text = '\\n'.join(output)\n",
    "\n",
    "# save\n",
    "filename = 'output.txt'\n",
    "metadata = {'subreddit': subreddit,\n",
    "            'sort': sort,\n",
    "            'time': str(start_time),\n",
    "            'no_posts': len(output)\n",
    "            }\n",
    "\n",
    "with open('metadata.json', 'w') as file:\n",
    "    file.write(json.dumps(metadata))\n",
    "\n",
    "with open(filename, 'w') as file:\n",
    "    file.write(output_text)"
   ]
  },
  {
   "cell_type": "code",
   "execution_count": 53,
   "id": "d0f6c8dc",
   "metadata": {},
   "outputs": [
    {
     "name": "stdout",
     "output_type": "stream",
     "text": [
      "1.110440731048584\n",
      "length: 990\n",
      "0.4064173698425293\n",
      "length: 990\n"
     ]
    },
    {
     "ename": "KeyboardInterrupt",
     "evalue": "",
     "output_type": "error",
     "traceback": [
      "\u001b[1;31m---------------------------------------------------------------------------\u001b[0m",
      "\u001b[1;31mKeyboardInterrupt\u001b[0m                         Traceback (most recent call last)",
      "\u001b[1;32m~\\AppData\\Local\\Temp/ipykernel_127996/850869934.py\u001b[0m in \u001b[0;36m<module>\u001b[1;34m\u001b[0m\n\u001b[0;32m     18\u001b[0m     \u001b[0mprint\u001b[0m\u001b[1;33m(\u001b[0m\u001b[1;34m'length:'\u001b[0m\u001b[1;33m,\u001b[0m \u001b[0mlen\u001b[0m\u001b[1;33m(\u001b[0m\u001b[0mdata\u001b[0m\u001b[1;33m)\u001b[0m\u001b[1;33m)\u001b[0m\u001b[1;33m\u001b[0m\u001b[1;33m\u001b[0m\u001b[0m\n\u001b[0;32m     19\u001b[0m     \u001b[0mdata\u001b[0m\u001b[1;33m.\u001b[0m\u001b[0mto_csv\u001b[0m\u001b[1;33m(\u001b[0m\u001b[1;34m'data.csv'\u001b[0m\u001b[1;33m)\u001b[0m\u001b[1;33m\u001b[0m\u001b[1;33m\u001b[0m\u001b[0m\n\u001b[1;32m---> 20\u001b[1;33m     \u001b[0mtime\u001b[0m\u001b[1;33m.\u001b[0m\u001b[0msleep\u001b[0m\u001b[1;33m(\u001b[0m\u001b[1;36m60.0\u001b[0m \u001b[1;33m-\u001b[0m \u001b[1;33m(\u001b[0m\u001b[1;33m(\u001b[0m\u001b[0mtime\u001b[0m\u001b[1;33m.\u001b[0m\u001b[0mtime\u001b[0m\u001b[1;33m(\u001b[0m\u001b[1;33m)\u001b[0m \u001b[1;33m-\u001b[0m \u001b[0mstart_time\u001b[0m\u001b[1;33m)\u001b[0m \u001b[1;33m%\u001b[0m \u001b[1;36m60.0\u001b[0m\u001b[1;33m)\u001b[0m\u001b[1;33m)\u001b[0m\u001b[1;33m\u001b[0m\u001b[1;33m\u001b[0m\u001b[0m\n\u001b[0m",
      "\u001b[1;31mKeyboardInterrupt\u001b[0m: "
     ]
    }
   ],
   "source": [
    "reddit = praw.Reddit(client_id='Ov0hf5hbdxVwAtI9CdodYw', client_secret='pzpqglx6N3_WoIAgJlMGsUowUkdwsw', user_agent='cz4045OMC')\n",
    "\n",
    "start_time = time.time()\n",
    "\n",
    "#https://towardsdatascience.com/scraping-reddit-data-1c0af3040768\n",
    "while True:\n",
    "    output = []\n",
    "    n = 10\n",
    "    t0= time.time()\n",
    "    posts = reddit.subreddit('offmychest').new(limit=n)\n",
    "    for post in posts:\n",
    "        output.append([post.title, post.id])\n",
    "    t1= time.time() - t0\n",
    "    print(t1)\n",
    "\n",
    "    df = pd.DataFrame(output, columns=['title', 'id'])\n",
    "    data = pd.concat([df, data]).drop_duplicates('id').reset_index(drop=True)\n",
    "    print('length:', len(data))\n",
    "    data.to_csv('data.csv')\n",
    "    time.sleep(60.0 - ((time.time() - start_time) % 60.0))"
   ]
  },
  {
   "cell_type": "code",
   "execution_count": null,
   "id": "b5d6b16b",
   "metadata": {},
   "outputs": [],
   "source": []
  }
 ],
 "metadata": {
  "kernelspec": {
   "display_name": "Python 3 (ipykernel)",
   "language": "python",
   "name": "python3"
  },
  "language_info": {
   "codemirror_mode": {
    "name": "ipython",
    "version": 3
   },
   "file_extension": ".py",
   "mimetype": "text/x-python",
   "name": "python",
   "nbconvert_exporter": "python",
   "pygments_lexer": "ipython3",
   "version": "3.8.5"
  }
 },
 "nbformat": 4,
 "nbformat_minor": 5
}
